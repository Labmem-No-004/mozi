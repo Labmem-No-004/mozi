{
 "cells": [
  {
   "cell_type": "markdown",
   "metadata": {},
   "source": [
    "#Get Started\n",
    "#pip install langchain-community"
   ]
  },
  {
   "cell_type": "code",
   "execution_count": 10,
   "metadata": {},
   "outputs": [],
   "source": [
    "from langchain.prompts import PromptTemplate, StringPromptTemplate"
   ]
  },
  {
   "cell_type": "code",
   "execution_count": 11,
   "metadata": {},
   "outputs": [],
   "source": [
    "template = \"\"\"你是一个来袭目标分配结果的解释专家，能够有效解释将来袭目标分配给相应单位的原因。\n",
    "已知来袭目标分配结果与距离、本单位剩余量，目标能力，方向匹配度，速度这几个要素有关，\n",
    "距离、剩余量、目标能力、方向匹配度、速度都是一个0到255区间的整数，数值越大，表明距离越远、剩余量越大，目标能力越大、方向匹配度越高、速度越高。\n",
    "你所得到的所有目标都是已被分配给本单位的目标。\n",
    "除本单位之外，还存在三个友方单位，你也可得知目标与其他友方单位之间的要素参数。\n",
    "当目标距离本单位较距离其他友方越近时，该目标被分配给本单位的概率越大，\n",
    "当本单位剩余量相较其他友方越小时被分配目标的概率越小，\n",
    "当目标能力越大时被分配给本单位的概率越大，\n",
    "当目标与本单位的方向匹配度相较其他友方越高时被分配至本单位的概率越大，\n",
    "当目标速度越高时被分配至本单位的概率越大，\n",
    "请你给定来袭目标被分配给本单位的依据，对分配结果给出解释原因，原因中不用出现来袭目标分配结果依据的具体数值，原因限定在100字以内。\n",
    "\n",
    "这里是来袭目标分配结果的依据:\n",
    "对于本单位\n",
    "距离0: {distance0}\n",
    "剩余量0: {num0}\n",
    "目标能力0: {threat0}\n",
    "方向匹配度0: {dirdection0}\n",
    "速度0: {speed0}\n",
    "\n",
    "对于友方1\n",
    "距离1: {distance1}\n",
    "剩余量1: {num1}\n",
    "目标能力1: {threat1}\n",
    "方向匹配度1: {dirdection1}\n",
    "速度1: {speed1}\n",
    "\n",
    "对于友方2\n",
    "距离2: {distance2}\n",
    "剩余量2: {num2}\n",
    "目标能力2: {threat2}\n",
    "方向匹配度2: {dirdection2}\n",
    "速度2: {speed2}\n",
    "\n",
    "对于友方3\n",
    "距离3: {distance3}\n",
    "剩余量3: {num3}\n",
    "目标能力3: {threat3}\n",
    "方向匹配度3: {dirdection3}\n",
    "速度3: {speed3}\n",
    "\n",
    "你的回答:\"\"\"\n",
    "prompt = PromptTemplate.from_template(template)\n",
    "class FeastPromptTemplate(StringPromptTemplate):\n",
    "    def format(self, **kwargs) -> str:\n",
    "        return prompt.format(**kwargs)\n",
    "    \n",
    "prompt_template = FeastPromptTemplate(input_variables=[\"distance0\",\"num0\",\"threat0\",\"dirdection0\",\"speed0\",\n",
    "                                                       \"distance1\",\"num1\",\"threat1\",\"dirdection1\",\"speed1\",\n",
    "                                                       \"distance2\",\"num2\",\"threat2\",\"dirdection2\",\"speed2\",\n",
    "                                                       \"distance3\",\"num3\",\"threat3\",\"dirdection3\",\"speed3\"])"
   ]
  },
  {
   "cell_type": "code",
   "execution_count": 12,
   "metadata": {},
   "outputs": [],
   "source": [
    "from langchain.chat_models import ChatOpenAI\n",
    "model = ChatOpenAI( \n",
    "        api_key=\"sk-94015823810947c3926755d27f9927e7\",\n",
    "        base_url=\"https://dashscope.aliyuncs.com/compatible-mode/v1\",\n",
    "        model=\"qwen-plus\",     \n",
    "    )\n",
    "\n",
    "from langchain_core.output_parsers import StrOutputParser\n",
    "parser = StrOutputParser()\n",
    "chain = model | parser"
   ]
  },
  {
   "cell_type": "code",
   "execution_count": 13,
   "metadata": {},
   "outputs": [
    {
     "data": {
      "text/plain": [
       "'该目标被分配给本单位的原因在于：尽管与友方2和3的距离相近，但本单位与目标的方向匹配度较高，且友方3的剩余量较少，无法承担更多任务。因此，综合考虑方向匹配度和友方剩余量，选择将目标分配给本单位。'"
      ]
     },
     "execution_count": 13,
     "metadata": {},
     "output_type": "execute_result"
    }
   ],
   "source": [
    "chain.invoke(prompt_template.format(distance0=100, num0=20,threat0=50,dirdection0=70,speed0=100,\n",
    "                                    distance1=100, num1=30,threat1=50,dirdection1=60,speed1=100,\n",
    "                                    distance2=80, num2=40,threat2=50,dirdection2=70,speed2=100,\n",
    "                                    distance3=80, num3=10,threat3=50,dirdection3=80,speed3=100))"
   ]
  },
  {
   "cell_type": "code",
   "execution_count": null,
   "metadata": {},
   "outputs": [],
   "source": []
  },
  {
   "cell_type": "code",
   "execution_count": null,
   "metadata": {},
   "outputs": [],
   "source": []
  },
  {
   "cell_type": "code",
   "execution_count": null,
   "metadata": {},
   "outputs": [],
   "source": []
  }
 ],
 "metadata": {
  "kernelspec": {
   "display_name": "LLMagent",
   "language": "python",
   "name": "python3"
  },
  "language_info": {
   "codemirror_mode": {
    "name": "ipython",
    "version": 3
   },
   "file_extension": ".py",
   "mimetype": "text/x-python",
   "name": "python",
   "nbconvert_exporter": "python",
   "pygments_lexer": "ipython3",
   "version": "3.10.13"
  }
 },
 "nbformat": 4,
 "nbformat_minor": 2
}
